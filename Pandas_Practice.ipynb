{
 "cells": [
  {
   "cell_type": "code",
   "execution_count": 42,
   "id": "480b5717",
   "metadata": {},
   "outputs": [],
   "source": [
    "# Declare a list of high schools.\n",
    "#high_schools=[\"Hernandez High School\", \"Figueroa High School\", \"Wilson High School\", \"Wright High School\"]\n",
    "# Iterate through list and print out each high school name.\n",
    "#for school in high_schools:\n",
    "    #print(school)"
   ]
  },
  {
   "cell_type": "code",
   "execution_count": 43,
   "id": "3ba6ea65",
   "metadata": {},
   "outputs": [],
   "source": [
    "# Declare a dictionary of high schools and the type of school.\n",
    "#high_school_types=[{\"High School\": \"Griffin\", \"Type\":\"District\"},\n",
    "                 # {\"High School\": \"Figueroa\", \"Type\": \"District\"},\n",
    "                  #{\"High School\": \"Wilson\", \"Type\": \"Charter\"},\n",
    "                  #{\"High School\": \"Wright\", \"Type\": \"Carter\"}]\n",
    "# Iterate through list and print out each high school name and their types.\n",
    "#for school in high_school_types:\n",
    "    #print (school)"
   ]
  },
  {
   "cell_type": "code",
   "execution_count": 42,
   "id": "60643f3f",
   "metadata": {},
   "outputs": [],
   "source": [
    "# Declare a list of high schools.\n",
    "#high_schools= [\"Huang High School\", \"Figeroa High School\", \"Shelton High School\", \"Hernandez High School\", \"Griffin High School\", \"Cabrera High School\", \"Bailey High School\", \"Holden High School\", \"Pena High School\", \"Rodriguuez High School\", \"Johnson High School\", \"Ford High School\", \"Thomas High School\"]"
   ]
  },
  {
   "cell_type": "code",
   "execution_count": 43,
   "id": "fc7facc4",
   "metadata": {},
   "outputs": [],
   "source": [
    "# Import Pandas dependency.\n",
    "import pandas as pd"
   ]
  },
  {
   "cell_type": "code",
   "execution_count": 44,
   "id": "357c0d8c",
   "metadata": {},
   "outputs": [
    {
     "data": {
      "text/plain": [
       "0          Huang High School\n",
       "1        Figeroa High School\n",
       "2        Shelton High School\n",
       "3      Hernandez High School\n",
       "4        Griffin High School\n",
       "5        Cabrera High School\n",
       "6         Bailey High School\n",
       "7         Holden High School\n",
       "8           Pena High School\n",
       "9     Rodriguuez High School\n",
       "10       Johnson High School\n",
       "11          Ford High School\n",
       "12        Thomas High School\n",
       "dtype: object"
      ]
     },
     "execution_count": 44,
     "metadata": {},
     "output_type": "execute_result"
    }
   ],
   "source": [
    "# Assign a variable and create a Pandas Series form list of high schools.\n",
    "school_series=pd.Series(high_schools)\n",
    "school_series"
   ]
  },
  {
   "cell_type": "code",
   "execution_count": 45,
   "id": "22174b73",
   "metadata": {},
   "outputs": [],
   "source": [
    "# Iterate through school series and print each high school.\n",
    "#for school in school_series:\n",
    "    #print(school)"
   ]
  },
  {
   "cell_type": "code",
   "execution_count": 46,
   "id": "31941a83",
   "metadata": {},
   "outputs": [],
   "source": [
    "# Declare a dictionary of high schools and the type of school.\n",
    "#high_school_dicts=[{\"School ID\": 0, \"school_name\": \"Huang High School\", \"type\": \"District\"},\n",
    "                  #{\"School ID\": 1, \"school_name\": \"Figueroa High School\", \"type\": \"District\"},\n",
    "                  #{\"School ID\": 2, \"school_name\": \"Shelton High School\", \"type\": \"Charter\"},\n",
    "                  #{\"School ID\": 3, \"school_name\": \"Hernandez High School\", \"type\": \"District\"},\n",
    "                  #{\"School ID\": 4, \"school_name\": \"Griffin High School\", \"type\": \"Charter\"}]"
   ]
  },
  {
   "cell_type": "code",
   "execution_count": 47,
   "id": "9531eee1",
   "metadata": {},
   "outputs": [],
   "source": [
    "# Assign a variable and create a Pandas DataFrame from high_school_dicts.\n",
    "#school_df=pd.DataFrame(high_school_dicts)\n",
    "#school_df"
   ]
  },
  {
   "cell_type": "code",
   "execution_count": 52,
   "id": "638d8252",
   "metadata": {},
   "outputs": [],
   "source": [
    "# Converting a Series to a DataFrame.\n",
    "# Declare three seperate lists/Series of information on high schools.\n",
    "school_id=[0, 1, 2, 3, 4, 5, 6, 7, 8, 9, 10, 11, 12, 13, 14]\n",
    "school_name=[\"Huang High School\", \"Figueroa High School\", \"Shelton High School\", \"Hernandez High School\", \"Griffin High School\", \"Wilson High School\", \"Cabrera High School\", \"Bailey High School\", \"Holden High School\", \"Pena High School\", \"Wright High School\", \"Rodriguuez High School\", \"Johnson High School\", \"Ford High School\", \"Thomas High School\"]\n",
    "type_of_school=[\"District\", \"District\", \"Charter\", \"District\", \"Charter\", \"Charter\", \"Charter\", \"Distcrict\", \"Charter\", \"charter\", \"Charter\", \"District\", \"District\", \"District\", \"Charter\"]"
   ]
  },
  {
   "cell_type": "code",
   "execution_count": 53,
   "id": "2c877e2e",
   "metadata": {},
   "outputs": [],
   "source": [
    "# Initialize a new DataFrame.\n",
    "schools_df=pd.DataFrame()"
   ]
  },
  {
   "cell_type": "code",
   "execution_count": 56,
   "id": "3a87c47b",
   "metadata": {},
   "outputs": [],
   "source": [
    "# Add the Series to schools_df.\n",
    "schools_df[\"school ID\"]=school_id\n",
    "schools_df[\"School Name\"]=school_name\n",
    "schools_df[\"Type\"]=type_of_school\n",
    "# Print the DataFrame.\n",
    "#schools_df"
   ]
  },
  {
   "cell_type": "code",
   "execution_count": 63,
   "id": "81d4c28d",
   "metadata": {},
   "outputs": [
    {
     "data": {
      "text/html": [
       "<div>\n",
       "<style scoped>\n",
       "    .dataframe tbody tr th:only-of-type {\n",
       "        vertical-align: middle;\n",
       "    }\n",
       "\n",
       "    .dataframe tbody tr th {\n",
       "        vertical-align: top;\n",
       "    }\n",
       "\n",
       "    .dataframe thead th {\n",
       "        text-align: right;\n",
       "    }\n",
       "</style>\n",
       "<table border=\"1\" class=\"dataframe\">\n",
       "  <thead>\n",
       "    <tr style=\"text-align: right;\">\n",
       "      <th></th>\n",
       "      <th>School ID</th>\n",
       "      <th>School Name</th>\n",
       "      <th>Type</th>\n",
       "    </tr>\n",
       "  </thead>\n",
       "  <tbody>\n",
       "    <tr>\n",
       "      <th>0</th>\n",
       "      <td>0</td>\n",
       "      <td>Huang High School</td>\n",
       "      <td>District</td>\n",
       "    </tr>\n",
       "    <tr>\n",
       "      <th>1</th>\n",
       "      <td>1</td>\n",
       "      <td>Figueroa High School</td>\n",
       "      <td>District</td>\n",
       "    </tr>\n",
       "    <tr>\n",
       "      <th>2</th>\n",
       "      <td>2</td>\n",
       "      <td>Shelton High School</td>\n",
       "      <td>Charter</td>\n",
       "    </tr>\n",
       "    <tr>\n",
       "      <th>3</th>\n",
       "      <td>3</td>\n",
       "      <td>Hernandez High School</td>\n",
       "      <td>District</td>\n",
       "    </tr>\n",
       "    <tr>\n",
       "      <th>4</th>\n",
       "      <td>4</td>\n",
       "      <td>Griffin High School</td>\n",
       "      <td>Charter</td>\n",
       "    </tr>\n",
       "    <tr>\n",
       "      <th>5</th>\n",
       "      <td>5</td>\n",
       "      <td>Wilson High School</td>\n",
       "      <td>Charter</td>\n",
       "    </tr>\n",
       "    <tr>\n",
       "      <th>6</th>\n",
       "      <td>6</td>\n",
       "      <td>Cabrera High School</td>\n",
       "      <td>Charter</td>\n",
       "    </tr>\n",
       "    <tr>\n",
       "      <th>7</th>\n",
       "      <td>7</td>\n",
       "      <td>Bailey High School</td>\n",
       "      <td>Distcrict</td>\n",
       "    </tr>\n",
       "    <tr>\n",
       "      <th>8</th>\n",
       "      <td>8</td>\n",
       "      <td>Holden High School</td>\n",
       "      <td>Charter</td>\n",
       "    </tr>\n",
       "    <tr>\n",
       "      <th>9</th>\n",
       "      <td>9</td>\n",
       "      <td>Pena High School</td>\n",
       "      <td>charter</td>\n",
       "    </tr>\n",
       "    <tr>\n",
       "      <th>10</th>\n",
       "      <td>10</td>\n",
       "      <td>Wright High School</td>\n",
       "      <td>Charter</td>\n",
       "    </tr>\n",
       "    <tr>\n",
       "      <th>11</th>\n",
       "      <td>11</td>\n",
       "      <td>Rodriguuez High School</td>\n",
       "      <td>District</td>\n",
       "    </tr>\n",
       "    <tr>\n",
       "      <th>12</th>\n",
       "      <td>12</td>\n",
       "      <td>Johnson High School</td>\n",
       "      <td>District</td>\n",
       "    </tr>\n",
       "    <tr>\n",
       "      <th>13</th>\n",
       "      <td>13</td>\n",
       "      <td>Ford High School</td>\n",
       "      <td>District</td>\n",
       "    </tr>\n",
       "    <tr>\n",
       "      <th>14</th>\n",
       "      <td>14</td>\n",
       "      <td>Thomas High School</td>\n",
       "      <td>Charter</td>\n",
       "    </tr>\n",
       "  </tbody>\n",
       "</table>\n",
       "</div>"
      ],
      "text/plain": [
       "    School ID             School Name       Type\n",
       "0           0       Huang High School   District\n",
       "1           1    Figueroa High School   District\n",
       "2           2     Shelton High School    Charter\n",
       "3           3   Hernandez High School   District\n",
       "4           4     Griffin High School    Charter\n",
       "5           5      Wilson High School    Charter\n",
       "6           6     Cabrera High School    Charter\n",
       "7           7      Bailey High School  Distcrict\n",
       "8           8      Holden High School    Charter\n",
       "9           9        Pena High School    charter\n",
       "10         10      Wright High School    Charter\n",
       "11         11  Rodriguuez High School   District\n",
       "12         12     Johnson High School   District\n",
       "13         13        Ford High School   District\n",
       "14         14      Thomas High School    Charter"
      ]
     },
     "execution_count": 63,
     "metadata": {},
     "output_type": "execute_result"
    }
   ],
   "source": [
    "# Aletrnative metod.\n",
    "# Declare a dictionary of information on high schools.\n",
    "high_schools_dict={'School ID':school_id, 'School Name':school_name, 'Type':type_of_school}\n",
    "# Initialize new DataFrame.\n",
    "schools_dict_df=pd.DataFrame()\n",
    "# Add dictionary to schools_dict_df\n",
    "schools_dict_df=pd.DataFrame(high_schools_dict)\n",
    "schools_dict_df"
   ]
  },
  {
   "cell_type": "code",
   "execution_count": 64,
   "id": "b1b9cf50",
   "metadata": {},
   "outputs": [
    {
     "data": {
      "text/plain": [
       "Index(['school ID', 'School Name', 'Type'], dtype='object')"
      ]
     },
     "execution_count": 64,
     "metadata": {},
     "output_type": "execute_result"
    }
   ],
   "source": [
    "schools_df.columns"
   ]
  },
  {
   "cell_type": "code",
   "execution_count": 65,
   "id": "10aa59f4",
   "metadata": {},
   "outputs": [
    {
     "data": {
      "text/plain": [
       "RangeIndex(start=0, stop=15, step=1)"
      ]
     },
     "execution_count": 65,
     "metadata": {},
     "output_type": "execute_result"
    }
   ],
   "source": [
    "schools_df.index"
   ]
  },
  {
   "cell_type": "code",
   "execution_count": 66,
   "id": "b9107944",
   "metadata": {},
   "outputs": [
    {
     "data": {
      "text/plain": [
       "array([[0, 'Huang High School', 'District'],\n",
       "       [1, 'Figueroa High School', 'District'],\n",
       "       [2, 'Shelton High School', 'Charter'],\n",
       "       [3, 'Hernandez High School', 'District'],\n",
       "       [4, 'Griffin High School', 'Charter'],\n",
       "       [5, 'Wilson High School', 'Charter'],\n",
       "       [6, 'Cabrera High School', 'Charter'],\n",
       "       [7, 'Bailey High School', 'Distcrict'],\n",
       "       [8, 'Holden High School', 'Charter'],\n",
       "       [9, 'Pena High School', 'charter'],\n",
       "       [10, 'Wright High School', 'Charter'],\n",
       "       [11, 'Rodriguuez High School', 'District'],\n",
       "       [12, 'Johnson High School', 'District'],\n",
       "       [13, 'Ford High School', 'District'],\n",
       "       [14, 'Thomas High School', 'Charter']], dtype=object)"
      ]
     },
     "execution_count": 66,
     "metadata": {},
     "output_type": "execute_result"
    }
   ],
   "source": [
    "schools_df.values"
   ]
  },
  {
   "cell_type": "code",
   "execution_count": null,
   "id": "145f91ae",
   "metadata": {},
   "outputs": [],
   "source": []
  }
 ],
 "metadata": {
  "kernelspec": {
   "display_name": "PyhtonData",
   "language": "python",
   "name": "pyhtondata"
  },
  "language_info": {
   "codemirror_mode": {
    "name": "ipython",
    "version": 3
   },
   "file_extension": ".py",
   "mimetype": "text/x-python",
   "name": "python",
   "nbconvert_exporter": "python",
   "pygments_lexer": "ipython3",
   "version": "3.7.13"
  }
 },
 "nbformat": 4,
 "nbformat_minor": 5
}
