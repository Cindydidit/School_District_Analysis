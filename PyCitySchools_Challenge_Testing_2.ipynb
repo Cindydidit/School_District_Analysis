{
 "cells": [
  {
   "cell_type": "code",
   "execution_count": 4,
   "id": "590cf5fa",
   "metadata": {},
   "outputs": [],
   "source": [
    "# Import Pandas library as a dependency.\n",
    "import pandas as pd\n",
    "# Import os module to upload csv files via inderect path.\n",
    "import os"
   ]
  },
  {
   "cell_type": "code",
   "execution_count": 5,
   "id": "a0281c7b",
   "metadata": {},
   "outputs": [],
   "source": [
    "# Assign variables for files to load via indirect path.\n",
    "school_data_to_load=os.path.join(\"Resources\", \"schools_complete.csv\")\n",
    "student_data_to_load=os.path.join(\"Resources\", \"students_complete.csv\")"
   ]
  },
  {
   "cell_type": "code",
   "execution_count": 6,
   "id": "403357ed",
   "metadata": {},
   "outputs": [],
   "source": [
    "# Read school data file and store it in a Pandas DataFrame.\n",
    "school_data_df=pd.read_csv(school_data_to_load)\n",
    "#school_data_df.head()"
   ]
  },
  {
   "cell_type": "code",
   "execution_count": 7,
   "id": "09bca6a6",
   "metadata": {},
   "outputs": [],
   "source": [
    "# Read student data file and store it in a Pandas DataFrame.\n",
    "student_data_df=pd.read_csv(student_data_to_load)\n",
    "#student_data_df.head()"
   ]
  },
  {
   "cell_type": "code",
   "execution_count": 8,
   "id": "6bdb5418",
   "metadata": {},
   "outputs": [
    {
     "name": "stderr",
     "output_type": "stream",
     "text": [
      "C:\\ProgramData\\Anaconda3\\envs\\PythonData\\lib\\site-packages\\ipykernel_launcher.py:7: FutureWarning: The default value of regex will change from True to False in a future version.\n",
      "  import sys\n"
     ]
    }
   ],
   "source": [
    "# Cleaning Student Names and Replacing Substrings in a Python String.\n",
    "# Declare prefixes_suffixes list.\n",
    "prefixes_suffixes=[\"Dr. \", \"Mr. \", \"Ms. \", \"Mrs. \", \"Miss \", \" MD\", \" DDS\", \" DVM\", \" PhD\"]\n",
    "# Iterate through prefixes_suffixes list.\n",
    "for word in prefixes_suffixes:\n",
    "    # Replace prefixes_suffixes with \"\".\n",
    "    student_data_df[\"student_name\"]=student_data_df[\"student_name\"].str.replace(word, \"\")\n",
    "#student_data_df.head(10)  "
   ]
  },
  {
   "cell_type": "code",
   "execution_count": 9,
   "id": "d2096d06",
   "metadata": {},
   "outputs": [],
   "source": [
    "# Deliverable 1: Replace reading and math scores.\n",
    "# Replace the 9th grade reading and math scores at Thomas High School with NaN."
   ]
  },
  {
   "cell_type": "code",
   "execution_count": 10,
   "id": "d2a6811c",
   "metadata": {},
   "outputs": [],
   "source": [
    "# Install numpy using conda install numpy or pip install numpy. \n",
    "# Step 1. Import numpy as np.\n",
    "import numpy as np"
   ]
  },
  {
   "cell_type": "code",
   "execution_count": 11,
   "id": "7ef393dd",
   "metadata": {},
   "outputs": [],
   "source": [
    "# Step 2. Use the loc method on the student_data_df to select all the reading scores from the 9th grade at Thomas High School and replace them with NaN.\n",
    "# Set school name to Thomas High School.\n",
    "student_data_df[\"school_name\"]==\"Thomas High School\"\n",
    "# Set grade to 9th garde\n",
    "student_data_df[\"grade\"]==\"9th\"\n",
    "# Select reading scores from the 9th grade at Thomas High School and replace them with NaN.\n",
    "student_data_df.loc[(student_data_df[\"school_name\"]==\"Thomas High School\")&(student_data_df[\"grade\"]==\"9th\"), \"reading_score\"]=np.nan\n",
    "#student_data_df"
   ]
  },
  {
   "cell_type": "code",
   "execution_count": 12,
   "id": "cb93b5a1",
   "metadata": {},
   "outputs": [],
   "source": [
    "#  Step 3. Refactor the code in Step 2 to replace the math scores with NaN.\n",
    "# Select math scores from the 9th grade at Thomas High School and replace them with NaN.\n",
    "student_data_df.loc[(student_data_df[\"school_name\"]==\"Thomas High School\")&(student_data_df[\"grade\"]==\"9th\"), \"math_score\"]=np.nan\n",
    "#student_data_df"
   ]
  },
  {
   "cell_type": "code",
   "execution_count": 13,
   "id": "c50b94e4",
   "metadata": {},
   "outputs": [
    {
     "data": {
      "text/html": [
       "<div>\n",
       "<style scoped>\n",
       "    .dataframe tbody tr th:only-of-type {\n",
       "        vertical-align: middle;\n",
       "    }\n",
       "\n",
       "    .dataframe tbody tr th {\n",
       "        vertical-align: top;\n",
       "    }\n",
       "\n",
       "    .dataframe thead th {\n",
       "        text-align: right;\n",
       "    }\n",
       "</style>\n",
       "<table border=\"1\" class=\"dataframe\">\n",
       "  <thead>\n",
       "    <tr style=\"text-align: right;\">\n",
       "      <th></th>\n",
       "      <th>Student ID</th>\n",
       "      <th>student_name</th>\n",
       "      <th>gender</th>\n",
       "      <th>grade</th>\n",
       "      <th>school_name</th>\n",
       "      <th>reading_score</th>\n",
       "      <th>math_score</th>\n",
       "    </tr>\n",
       "  </thead>\n",
       "  <tbody>\n",
       "    <tr>\n",
       "      <th>39160</th>\n",
       "      <td>39160</td>\n",
       "      <td>Katie Weaver</td>\n",
       "      <td>F</td>\n",
       "      <td>11th</td>\n",
       "      <td>Thomas High School</td>\n",
       "      <td>89.0</td>\n",
       "      <td>86.0</td>\n",
       "    </tr>\n",
       "    <tr>\n",
       "      <th>39161</th>\n",
       "      <td>39161</td>\n",
       "      <td>April Reyes</td>\n",
       "      <td>F</td>\n",
       "      <td>10th</td>\n",
       "      <td>Thomas High School</td>\n",
       "      <td>70.0</td>\n",
       "      <td>84.0</td>\n",
       "    </tr>\n",
       "    <tr>\n",
       "      <th>39162</th>\n",
       "      <td>39162</td>\n",
       "      <td>Derek Weeks</td>\n",
       "      <td>M</td>\n",
       "      <td>12th</td>\n",
       "      <td>Thomas High School</td>\n",
       "      <td>94.0</td>\n",
       "      <td>77.0</td>\n",
       "    </tr>\n",
       "    <tr>\n",
       "      <th>39163</th>\n",
       "      <td>39163</td>\n",
       "      <td>John Reese</td>\n",
       "      <td>M</td>\n",
       "      <td>11th</td>\n",
       "      <td>Thomas High School</td>\n",
       "      <td>90.0</td>\n",
       "      <td>75.0</td>\n",
       "    </tr>\n",
       "    <tr>\n",
       "      <th>39164</th>\n",
       "      <td>39164</td>\n",
       "      <td>Joseph Anthony</td>\n",
       "      <td>M</td>\n",
       "      <td>9th</td>\n",
       "      <td>Thomas High School</td>\n",
       "      <td>NaN</td>\n",
       "      <td>NaN</td>\n",
       "    </tr>\n",
       "    <tr>\n",
       "      <th>39165</th>\n",
       "      <td>39165</td>\n",
       "      <td>Donna Howard</td>\n",
       "      <td>F</td>\n",
       "      <td>12th</td>\n",
       "      <td>Thomas High School</td>\n",
       "      <td>99.0</td>\n",
       "      <td>90.0</td>\n",
       "    </tr>\n",
       "    <tr>\n",
       "      <th>39166</th>\n",
       "      <td>39166</td>\n",
       "      <td>Dawn Bell</td>\n",
       "      <td>F</td>\n",
       "      <td>10th</td>\n",
       "      <td>Thomas High School</td>\n",
       "      <td>95.0</td>\n",
       "      <td>70.0</td>\n",
       "    </tr>\n",
       "    <tr>\n",
       "      <th>39167</th>\n",
       "      <td>39167</td>\n",
       "      <td>Rebecca Tanner</td>\n",
       "      <td>F</td>\n",
       "      <td>9th</td>\n",
       "      <td>Thomas High School</td>\n",
       "      <td>NaN</td>\n",
       "      <td>NaN</td>\n",
       "    </tr>\n",
       "    <tr>\n",
       "      <th>39168</th>\n",
       "      <td>39168</td>\n",
       "      <td>Desiree Kidd</td>\n",
       "      <td>F</td>\n",
       "      <td>10th</td>\n",
       "      <td>Thomas High School</td>\n",
       "      <td>99.0</td>\n",
       "      <td>90.0</td>\n",
       "    </tr>\n",
       "    <tr>\n",
       "      <th>39169</th>\n",
       "      <td>39169</td>\n",
       "      <td>Carolyn Jackson</td>\n",
       "      <td>F</td>\n",
       "      <td>11th</td>\n",
       "      <td>Thomas High School</td>\n",
       "      <td>95.0</td>\n",
       "      <td>75.0</td>\n",
       "    </tr>\n",
       "  </tbody>\n",
       "</table>\n",
       "</div>"
      ],
      "text/plain": [
       "       Student ID     student_name gender grade         school_name  \\\n",
       "39160       39160     Katie Weaver      F  11th  Thomas High School   \n",
       "39161       39161      April Reyes      F  10th  Thomas High School   \n",
       "39162       39162      Derek Weeks      M  12th  Thomas High School   \n",
       "39163       39163       John Reese      M  11th  Thomas High School   \n",
       "39164       39164   Joseph Anthony      M   9th  Thomas High School   \n",
       "39165       39165     Donna Howard      F  12th  Thomas High School   \n",
       "39166       39166        Dawn Bell      F  10th  Thomas High School   \n",
       "39167       39167   Rebecca Tanner      F   9th  Thomas High School   \n",
       "39168       39168     Desiree Kidd      F  10th  Thomas High School   \n",
       "39169       39169  Carolyn Jackson      F  11th  Thomas High School   \n",
       "\n",
       "       reading_score  math_score  \n",
       "39160           89.0        86.0  \n",
       "39161           70.0        84.0  \n",
       "39162           94.0        77.0  \n",
       "39163           90.0        75.0  \n",
       "39164            NaN         NaN  \n",
       "39165           99.0        90.0  \n",
       "39166           95.0        70.0  \n",
       "39167            NaN         NaN  \n",
       "39168           99.0        90.0  \n",
       "39169           95.0        75.0  "
      ]
     },
     "execution_count": 13,
     "metadata": {},
     "output_type": "execute_result"
    }
   ],
   "source": [
    "#  Step 4. Check the student data for NaN's. \n",
    "student_data_df.tail(10)"
   ]
  },
  {
   "cell_type": "code",
   "execution_count": 17,
   "id": "660df5b5",
   "metadata": {},
   "outputs": [
    {
     "data": {
      "text/html": [
       "<div>\n",
       "<style scoped>\n",
       "    .dataframe tbody tr th:only-of-type {\n",
       "        vertical-align: middle;\n",
       "    }\n",
       "\n",
       "    .dataframe tbody tr th {\n",
       "        vertical-align: top;\n",
       "    }\n",
       "\n",
       "    .dataframe thead th {\n",
       "        text-align: right;\n",
       "    }\n",
       "</style>\n",
       "<table border=\"1\" class=\"dataframe\">\n",
       "  <thead>\n",
       "    <tr style=\"text-align: right;\">\n",
       "      <th></th>\n",
       "      <th>Student ID</th>\n",
       "      <th>student_name</th>\n",
       "      <th>gender</th>\n",
       "      <th>grade</th>\n",
       "      <th>school_name</th>\n",
       "      <th>reading_score</th>\n",
       "      <th>math_score</th>\n",
       "      <th>School ID</th>\n",
       "      <th>type</th>\n",
       "      <th>size</th>\n",
       "      <th>budget</th>\n",
       "    </tr>\n",
       "  </thead>\n",
       "  <tbody>\n",
       "    <tr>\n",
       "      <th>0</th>\n",
       "      <td>0</td>\n",
       "      <td>Paul Bradley</td>\n",
       "      <td>M</td>\n",
       "      <td>9th</td>\n",
       "      <td>Huang High School</td>\n",
       "      <td>66.0</td>\n",
       "      <td>79.0</td>\n",
       "      <td>0</td>\n",
       "      <td>District</td>\n",
       "      <td>2917</td>\n",
       "      <td>1910635</td>\n",
       "    </tr>\n",
       "    <tr>\n",
       "      <th>1</th>\n",
       "      <td>1</td>\n",
       "      <td>Victor Smith</td>\n",
       "      <td>M</td>\n",
       "      <td>12th</td>\n",
       "      <td>Huang High School</td>\n",
       "      <td>94.0</td>\n",
       "      <td>61.0</td>\n",
       "      <td>0</td>\n",
       "      <td>District</td>\n",
       "      <td>2917</td>\n",
       "      <td>1910635</td>\n",
       "    </tr>\n",
       "    <tr>\n",
       "      <th>2</th>\n",
       "      <td>2</td>\n",
       "      <td>Kevin Rodriguez</td>\n",
       "      <td>M</td>\n",
       "      <td>12th</td>\n",
       "      <td>Huang High School</td>\n",
       "      <td>90.0</td>\n",
       "      <td>60.0</td>\n",
       "      <td>0</td>\n",
       "      <td>District</td>\n",
       "      <td>2917</td>\n",
       "      <td>1910635</td>\n",
       "    </tr>\n",
       "    <tr>\n",
       "      <th>3</th>\n",
       "      <td>3</td>\n",
       "      <td>Richard Scott</td>\n",
       "      <td>M</td>\n",
       "      <td>12th</td>\n",
       "      <td>Huang High School</td>\n",
       "      <td>67.0</td>\n",
       "      <td>58.0</td>\n",
       "      <td>0</td>\n",
       "      <td>District</td>\n",
       "      <td>2917</td>\n",
       "      <td>1910635</td>\n",
       "    </tr>\n",
       "    <tr>\n",
       "      <th>4</th>\n",
       "      <td>4</td>\n",
       "      <td>Bonnie Ray</td>\n",
       "      <td>F</td>\n",
       "      <td>9th</td>\n",
       "      <td>Huang High School</td>\n",
       "      <td>97.0</td>\n",
       "      <td>84.0</td>\n",
       "      <td>0</td>\n",
       "      <td>District</td>\n",
       "      <td>2917</td>\n",
       "      <td>1910635</td>\n",
       "    </tr>\n",
       "  </tbody>\n",
       "</table>\n",
       "</div>"
      ],
      "text/plain": [
       "   Student ID     student_name gender grade        school_name  reading_score  \\\n",
       "0           0     Paul Bradley      M   9th  Huang High School           66.0   \n",
       "1           1     Victor Smith      M  12th  Huang High School           94.0   \n",
       "2           2  Kevin Rodriguez      M  12th  Huang High School           90.0   \n",
       "3           3    Richard Scott      M  12th  Huang High School           67.0   \n",
       "4           4       Bonnie Ray      F   9th  Huang High School           97.0   \n",
       "\n",
       "   math_score  School ID      type  size   budget  \n",
       "0        79.0          0  District  2917  1910635  \n",
       "1        61.0          0  District  2917  1910635  \n",
       "2        60.0          0  District  2917  1910635  \n",
       "3        58.0          0  District  2917  1910635  \n",
       "4        84.0          0  District  2917  1910635  "
      ]
     },
     "execution_count": 17,
     "metadata": {},
     "output_type": "execute_result"
    }
   ],
   "source": [
    "# Deliverable 2 : Repeat the school district analysis\n",
    "# District Summary\n",
    "# Merge student_data_df and school_data_df into single dataset.\n",
    "school_data_complete_df = pd.merge(student_data_df, school_data_df, how=\"left\", on=[\"school_name\", \"school_name\"])\n",
    "school_data_complete_df.head()"
   ]
  },
  {
   "cell_type": "code",
   "execution_count": 26,
   "id": "a89e3e38",
   "metadata": {},
   "outputs": [],
   "source": [
    "# Calculate the Totals (Schools and Students)\n",
    "school_count = len(school_data_complete_df[\"school_name\"].unique())\n",
    "student_count = school_data_complete_df[\"Student ID\"].count()\n",
    "# Calculate the Total Budget\n",
    "total_budget = school_data_df[\"budget\"].sum()"
   ]
  },
  {
   "cell_type": "code",
   "execution_count": 27,
   "id": "fd59db7d",
   "metadata": {},
   "outputs": [],
   "source": [
    "# Calculate the Average Scores using the \"clean_student_data\".\n",
    "average_reading_score = school_data_complete_df[\"reading_score\"].mean()\n",
    "average_math_score = school_data_complete_df[\"math_score\"].mean()"
   ]
  },
  {
   "cell_type": "code",
   "execution_count": 42,
   "id": "0db30e7c",
   "metadata": {},
   "outputs": [],
   "source": [
    "# Step 1. Get the number of students that are in ninth grade at Thomas High School.\n",
    "# Assign variable, loc[], and  count Thomas High School 9th graders.\n",
    "ths_9=student_data_df.loc[(school_data_complete_df[\"school_name\"]==\"Thomas High School\")&(school_data_complete_df[\"grade\"]==\"9th\"), \"Student ID\"].count()\n",
    "# Get the total student count \n",
    "student_count = school_data_complete_df[\"Student ID\"].count()\n",
    "# Step 2. Subtract the number of students that are in ninth grade at Thomas High School from the total student count to get the new total student count.\n",
    "# Assign variable new_total_student_count, and subtract ths_9 from old student_count.\n",
    "new_total_student_count=student_count-ths_9"
   ]
  },
  {
   "cell_type": "code",
   "execution_count": 43,
   "id": "041ee577",
   "metadata": {},
   "outputs": [],
   "source": [
    "# Calculate the passing rates using the \"clean_student_data\".\n",
    "passing_math_count = school_data_complete_df[(school_data_complete_df[\"math_score\"] >= 70)].count()[\"student_name\"]\n",
    "passing_reading_count = school_data_complete_df[(school_data_complete_df[\"reading_score\"] >= 70)].count()[\"student_name\"]"
   ]
  },
  {
   "cell_type": "code",
   "execution_count": 45,
   "id": "a7e9331f",
   "metadata": {},
   "outputs": [],
   "source": [
    "# Step 3. Calculate the passing percentages with the new total student count.\n",
    "passing_math_percentage = passing_math_count / float(new_total_student_count) * 100\n",
    "passing_reading_percentage = passing_reading_count / float(new_total_student_count) * 100"
   ]
  },
  {
   "cell_type": "code",
   "execution_count": 46,
   "id": "f99b70d6",
   "metadata": {},
   "outputs": [],
   "source": [
    "# Calculate the students who passed both reading and math.\n",
    "passing_math_reading = school_data_complete_df[(school_data_complete_df[\"math_score\"] >= 70)&(school_data_complete_df[\"reading_score\"] >= 70)]\n",
    "# Calculate the number of students that passed both reading and math.\n",
    "overall_passing_math_reading_count = passing_math_reading[\"student_name\"].count()\n",
    "# Step 4.Calculate the overall passing percentage with new total student count.\n",
    "overall_passing_percentage = overall_passing_math_reading_count / new_total_student_count * 100"
   ]
  },
  {
   "cell_type": "code",
   "execution_count": 47,
   "id": "09f9b2e5",
   "metadata": {},
   "outputs": [
    {
     "data": {
      "text/html": [
       "<div>\n",
       "<style scoped>\n",
       "    .dataframe tbody tr th:only-of-type {\n",
       "        vertical-align: middle;\n",
       "    }\n",
       "\n",
       "    .dataframe tbody tr th {\n",
       "        vertical-align: top;\n",
       "    }\n",
       "\n",
       "    .dataframe thead th {\n",
       "        text-align: right;\n",
       "    }\n",
       "</style>\n",
       "<table border=\"1\" class=\"dataframe\">\n",
       "  <thead>\n",
       "    <tr style=\"text-align: right;\">\n",
       "      <th></th>\n",
       "      <th>Total Schools</th>\n",
       "      <th>Total Students</th>\n",
       "      <th>Total Budget</th>\n",
       "      <th>Average Math Score</th>\n",
       "      <th>Average Reading Score</th>\n",
       "      <th>% Passing Math</th>\n",
       "      <th>% Passing Reading</th>\n",
       "      <th>% Overall Passing</th>\n",
       "    </tr>\n",
       "  </thead>\n",
       "  <tbody>\n",
       "    <tr>\n",
       "      <th>0</th>\n",
       "      <td>15</td>\n",
       "      <td>39,170</td>\n",
       "      <td>$24,649,428.00</td>\n",
       "      <td>78.9</td>\n",
       "      <td>81.9</td>\n",
       "      <td>74.8</td>\n",
       "      <td>85.7</td>\n",
       "      <td>64.9</td>\n",
       "    </tr>\n",
       "  </tbody>\n",
       "</table>\n",
       "</div>"
      ],
      "text/plain": [
       "   Total Schools Total Students    Total Budget Average Math Score  \\\n",
       "0             15         39,170  $24,649,428.00               78.9   \n",
       "\n",
       "  Average Reading Score % Passing Math % Passing Reading % Overall Passing  \n",
       "0                  81.9           74.8              85.7              64.9  "
      ]
     },
     "execution_count": 47,
     "metadata": {},
     "output_type": "execute_result"
    }
   ],
   "source": [
    "# Create a DataFrame\n",
    "district_summary_df = pd.DataFrame(\n",
    "        [{\"Total Schools\": school_count, \n",
    "        \"Total Students\": student_count, \n",
    "        \"Total Budget\": total_budget,\n",
    "        \"Average Math Score\": average_math_score, \n",
    "        \"Average Reading Score\": average_reading_score,\n",
    "        \"% Passing Math\": passing_math_percentage,\n",
    "        \"% Passing Reading\": passing_reading_percentage,\n",
    "        \"% Overall Passing\": overall_passing_percentage}])\n",
    "# Format the \"Total Students\" to have the comma for a thousands separator.\n",
    "district_summary_df[\"Total Students\"] = district_summary_df[\"Total Students\"].map(\"{:,}\".format)\n",
    "# Format the \"Total Budget\" to have the comma for a thousands separator, a decimal separator and a \"$\".\n",
    "district_summary_df[\"Total Budget\"] = district_summary_df[\"Total Budget\"].map(\"${:,.2f}\".format)\n",
    "# Format the columns.\n",
    "district_summary_df[\"Average Math Score\"] = district_summary_df[\"Average Math Score\"].map(\"{:.1f}\".format)\n",
    "district_summary_df[\"Average Reading Score\"] = district_summary_df[\"Average Reading Score\"].map(\"{:.1f}\".format)\n",
    "district_summary_df[\"% Passing Math\"] = district_summary_df[\"% Passing Math\"].map(\"{:.1f}\".format)\n",
    "district_summary_df[\"% Passing Reading\"] = district_summary_df[\"% Passing Reading\"].map(\"{:.1f}\".format)\n",
    "district_summary_df[\"% Overall Passing\"] = district_summary_df[\"% Overall Passing\"].map(\"{:.1f}\".format)\n",
    "# Display the data frame\n",
    "district_summary_df"
   ]
  },
  {
   "cell_type": "code",
   "execution_count": 84,
   "id": "905591fe",
   "metadata": {},
   "outputs": [],
   "source": [
    "#School Summary\n",
    "# Determine the School Type\n",
    "per_school_types = school_data_df.set_index([\"school_name\"])[\"type\"]\n",
    "# Calculate the total student count.\n",
    "per_school_counts = school_data_complete_df[\"school_name\"].value_counts()\n",
    "# Calculate the total school budget and per capita spending\n",
    "per_school_budget = school_data_complete_df.groupby([\"school_name\"]).mean()[\"budget\"]\n",
    "# Calculate the per capita spending.\n",
    "per_school_capita = per_school_budget / per_school_counts\n",
    "# Calculate the average test scores.\n",
    "per_school_math = school_data_complete_df.groupby([\"school_name\"]).mean()[\"math_score\"]\n",
    "per_school_reading = school_data_complete_df.groupby([\"school_name\"]).mean()[\"reading_score\"]\n",
    "# Calculate the passing scores by creating a filtered DataFrame.\n",
    "per_school_passing_math = school_data_complete_df[(school_data_complete_df[\"math_score\"] >= 70)]\n",
    "per_school_passing_reading = school_data_complete_df[(school_data_complete_df[\"reading_score\"] >= 70)]\n",
    "# Calculate the number of students passing math and passing reading by school.\n",
    "per_school_passing_math = per_school_passing_math.groupby([\"school_name\"]).count()[\"student_name\"]\n",
    "per_school_passing_reading = per_school_passing_reading.groupby([\"school_name\"]).count()[\"student_name\"]\n",
    "# Calculate the percentage of passing math and reading scores per school.\n",
    "per_school_passing_math = per_school_passing_math / per_school_counts * 100\n",
    "per_school_passing_reading = per_school_passing_reading / per_school_counts * 100\n",
    "# Calculate the students who passed both reading and math.\n",
    "per_passing_math_reading = school_data_complete_df[(school_data_complete_df[\"reading_score\"] >= 70)&(school_data_complete_df[\"math_score\"] >= 70)]\n",
    "# Calculate the number of students passing math and passing reading by school.\n",
    "per_passing_math_reading = per_passing_math_reading.groupby([\"school_name\"]).count()[\"student_name\"]\n",
    "# Calculate the percentage of passing math and reading scores per school.\n",
    "per_overall_passing_percentage = per_passing_math_reading / per_school_counts * 100"
   ]
  },
  {
   "cell_type": "code",
   "execution_count": 85,
   "id": "89c9b639",
   "metadata": {},
   "outputs": [],
   "source": [
    "# Create the DataFrame\n",
    "per_school_summary_df = pd.DataFrame({\n",
    "    \"School Type\": per_school_types,\n",
    "    \"Total Students\": per_school_counts,\n",
    "    \"Total School Budget\": per_school_budget,\n",
    "    \"Per Student Budget\": per_school_capita,\n",
    "    \"Average Math Score\": per_school_math,\n",
    "    \"Average Reading Score\": per_school_reading,\n",
    "    \"% Passing Math\": per_school_passing_math,\n",
    "    \"% Passing Reading\": per_school_passing_reading,\n",
    "    \"% Overall Passing\": per_overall_passing_percentage})\n",
    "# per_school_summary_df.head()"
   ]
  },
  {
   "cell_type": "code",
   "execution_count": 86,
   "id": "5a9a32bd",
   "metadata": {},
   "outputs": [],
   "source": [
    "# Format the Total School Budget and the Per Student Budget\n",
    "per_school_summary_df[\"Total School Budget\"] = per_school_summary_df[\"Total School Budget\"].map(\"${:,.2f}\".format)\n",
    "per_school_summary_df[\"Per Student Budget\"] = per_school_summary_df[\"Per Student Budget\"].map(\"${:,.2f}\".format)\n",
    "# Display the data frame\n",
    "#per_school_summary_df"
   ]
  },
  {
   "cell_type": "code",
   "execution_count": 87,
   "id": "79d7108c",
   "metadata": {},
   "outputs": [
    {
     "data": {
      "text/plain": [
       "1174"
      ]
     },
     "execution_count": 87,
     "metadata": {},
     "output_type": "execute_result"
    }
   ],
   "source": [
    "# Step 5.  Get the number of 10th-12th graders from Thomas High School (THS).\n",
    "ths_10_12=student_data_df.loc[(school_data_complete_df[\"school_name\"]==\"Thomas High School\")&(school_data_complete_df[\"grade\"]!=\"9th\"), \"Student ID\"].count()\n",
    "ths_10_12"
   ]
  },
  {
   "cell_type": "code",
   "execution_count": 96,
   "id": "73587281",
   "metadata": {},
   "outputs": [
    {
     "data": {
      "text/plain": [
       "1094"
      ]
     },
     "execution_count": 96,
     "metadata": {},
     "output_type": "execute_result"
    }
   ],
   "source": [
    "# Step 6. Get all the students passing math from THS\n",
    "ths_passing_math_count = school_data_complete_df.loc[(student_data_df[\"school_name\"]==\"Thomas High School\")&(school_data_complete_df[\"math_score\"] >= 70), \"Student ID\"].count()\n",
    "ths_passing_math_count"
   ]
  },
  {
   "cell_type": "code",
   "execution_count": 97,
   "id": "7c937074",
   "metadata": {},
   "outputs": [
    {
     "data": {
      "text/plain": [
       "1139"
      ]
     },
     "execution_count": 97,
     "metadata": {},
     "output_type": "execute_result"
    }
   ],
   "source": [
    "# Step 7. Get all the students passing reading from THS\n",
    "ths_reading_math_count = school_data_complete_df.loc[(student_data_df[\"school_name\"]==\"Thomas High School\")&(school_data_complete_df[\"reading_score\"] >= 70), \"Student ID\"].count()\n",
    "ths_reading_math_count"
   ]
  },
  {
   "cell_type": "code",
   "execution_count": 98,
   "id": "e10b9474",
   "metadata": {},
   "outputs": [
    {
     "data": {
      "text/plain": [
       "1064"
      ]
     },
     "execution_count": 98,
     "metadata": {},
     "output_type": "execute_result"
    }
   ],
   "source": [
    "# Step 8. Get all the students passing math and reading from THS\n",
    "ths_passing_math_reading = school_data_complete_df.loc[(school_data_complete_df[\"school_name\"]==\"Thomas High School\") & (school_data_complete_df[\"math_score\"] >= 70) & (school_data_complete_df[\"reading_score\"] >= 70),\"Student ID\"].count()\n",
    "ths_passing_math_reading"
   ]
  },
  {
   "cell_type": "code",
   "execution_count": 100,
   "id": "e8e95531",
   "metadata": {},
   "outputs": [
    {
     "data": {
      "text/plain": [
       "93.18568994889267"
      ]
     },
     "execution_count": 100,
     "metadata": {},
     "output_type": "execute_result"
    }
   ],
   "source": [
    "# Step 9. Calculate the percentage of 10th-12th grade students passing math from Thomas High School. \n",
    "ths_passing_math_percentage= ths_passing_math_count/float(ths_10_12) * 100\n",
    "ths_passing_math_percentage"
   ]
  },
  {
   "cell_type": "code",
   "execution_count": 101,
   "id": "3ee52cac",
   "metadata": {},
   "outputs": [
    {
     "data": {
      "text/plain": [
       "97.01873935264055"
      ]
     },
     "execution_count": 101,
     "metadata": {},
     "output_type": "execute_result"
    }
   ],
   "source": [
    "# Step 10. Calculate the percentage of 10th-12th grade students passing reading from Thomas High School.\n",
    "ths_passing_reading_percentage= ths_reading_math_count/float(ths_10_12) * 100\n",
    "ths_passing_reading_percentage"
   ]
  },
  {
   "cell_type": "code",
   "execution_count": 103,
   "id": "d3458ec7",
   "metadata": {},
   "outputs": [
    {
     "data": {
      "text/plain": [
       "90.63032367972743"
      ]
     },
     "execution_count": 103,
     "metadata": {},
     "output_type": "execute_result"
    }
   ],
   "source": [
    "# Step 11. Calculate the overall passing percentage of 10th-12th grade from Thomas High School. \n",
    "ths_overall_passing_percentage=ths_passing_math_reading/ths_10_12 * 100\n",
    "ths_overall_passing_percentage"
   ]
  },
  {
   "cell_type": "code",
   "execution_count": 109,
   "id": "ef695e6d",
   "metadata": {},
   "outputs": [],
   "source": [
    "# Step 12. Replace the passing math percent for Thomas High School in the per_school_summary_df.\n",
    "per_school_summary_df.loc[\"Thomas High School\", \"% Passing Math\"]=ths_passing_math_percentage"
   ]
  },
  {
   "cell_type": "code",
   "execution_count": 110,
   "id": "bd2facb0",
   "metadata": {},
   "outputs": [],
   "source": [
    "# Step 13. Replace the passing reading percentage for Thomas High School in the per_school_summary_df.\n",
    "per_school_summary_df.loc[\"Thomas High School\", \"% Passing Reading\"]=ths_passing_reading_percentage"
   ]
  },
  {
   "cell_type": "code",
   "execution_count": 111,
   "id": "82e7d34b",
   "metadata": {},
   "outputs": [],
   "source": [
    "# Step 14. Replace the overall passing percentage for Thomas High School in the per_school_summary_df.\n",
    "per_school_summary_df.loc[\"Thomas High School\", \"% Overall Passing\"]=ths_overall_passing_percentage"
   ]
  },
  {
   "cell_type": "code",
   "execution_count": 146,
   "id": "105e12d6",
   "metadata": {},
   "outputs": [],
   "source": [
    "#per_school_summary_df"
   ]
  },
  {
   "cell_type": "code",
   "execution_count": 147,
   "id": "b806e380",
   "metadata": {},
   "outputs": [
    {
     "data": {
      "text/html": [
       "<div>\n",
       "<style scoped>\n",
       "    .dataframe tbody tr th:only-of-type {\n",
       "        vertical-align: middle;\n",
       "    }\n",
       "\n",
       "    .dataframe tbody tr th {\n",
       "        vertical-align: top;\n",
       "    }\n",
       "\n",
       "    .dataframe thead th {\n",
       "        text-align: right;\n",
       "    }\n",
       "</style>\n",
       "<table border=\"1\" class=\"dataframe\">\n",
       "  <thead>\n",
       "    <tr style=\"text-align: right;\">\n",
       "      <th></th>\n",
       "      <th>School Type</th>\n",
       "      <th>Total Students</th>\n",
       "      <th>Total School Budget</th>\n",
       "      <th>Per Student Budget</th>\n",
       "      <th>Average Math Score</th>\n",
       "      <th>Average Reading Score</th>\n",
       "      <th>% Passing Math</th>\n",
       "      <th>% Passing Reading</th>\n",
       "      <th>% Overall Passing</th>\n",
       "    </tr>\n",
       "  </thead>\n",
       "  <tbody>\n",
       "    <tr>\n",
       "      <th>Cabrera High School</th>\n",
       "      <td>Charter</td>\n",
       "      <td>1858</td>\n",
       "      <td>$1,081,356.00</td>\n",
       "      <td>$582.00</td>\n",
       "      <td>83.061895</td>\n",
       "      <td>83.975780</td>\n",
       "      <td>94.133477</td>\n",
       "      <td>97.039828</td>\n",
       "      <td>91.334769</td>\n",
       "    </tr>\n",
       "    <tr>\n",
       "      <th>Thomas High School</th>\n",
       "      <td>Charter</td>\n",
       "      <td>1635</td>\n",
       "      <td>$1,043,130.00</td>\n",
       "      <td>$638.00</td>\n",
       "      <td>83.350937</td>\n",
       "      <td>83.896082</td>\n",
       "      <td>93.185690</td>\n",
       "      <td>97.018739</td>\n",
       "      <td>90.630324</td>\n",
       "    </tr>\n",
       "    <tr>\n",
       "      <th>Griffin High School</th>\n",
       "      <td>Charter</td>\n",
       "      <td>1468</td>\n",
       "      <td>$917,500.00</td>\n",
       "      <td>$625.00</td>\n",
       "      <td>83.351499</td>\n",
       "      <td>83.816757</td>\n",
       "      <td>93.392371</td>\n",
       "      <td>97.138965</td>\n",
       "      <td>90.599455</td>\n",
       "    </tr>\n",
       "    <tr>\n",
       "      <th>Wilson High School</th>\n",
       "      <td>Charter</td>\n",
       "      <td>2283</td>\n",
       "      <td>$1,319,574.00</td>\n",
       "      <td>$578.00</td>\n",
       "      <td>83.274201</td>\n",
       "      <td>83.989488</td>\n",
       "      <td>93.867718</td>\n",
       "      <td>96.539641</td>\n",
       "      <td>90.582567</td>\n",
       "    </tr>\n",
       "    <tr>\n",
       "      <th>Pena High School</th>\n",
       "      <td>Charter</td>\n",
       "      <td>962</td>\n",
       "      <td>$585,858.00</td>\n",
       "      <td>$609.00</td>\n",
       "      <td>83.839917</td>\n",
       "      <td>84.044699</td>\n",
       "      <td>94.594595</td>\n",
       "      <td>95.945946</td>\n",
       "      <td>90.540541</td>\n",
       "    </tr>\n",
       "  </tbody>\n",
       "</table>\n",
       "</div>"
      ],
      "text/plain": [
       "                    School Type  Total Students Total School Budget  \\\n",
       "Cabrera High School     Charter            1858       $1,081,356.00   \n",
       "Thomas High School      Charter            1635       $1,043,130.00   \n",
       "Griffin High School     Charter            1468         $917,500.00   \n",
       "Wilson High School      Charter            2283       $1,319,574.00   \n",
       "Pena High School        Charter             962         $585,858.00   \n",
       "\n",
       "                    Per Student Budget  Average Math Score  \\\n",
       "Cabrera High School            $582.00           83.061895   \n",
       "Thomas High School             $638.00           83.350937   \n",
       "Griffin High School            $625.00           83.351499   \n",
       "Wilson High School             $578.00           83.274201   \n",
       "Pena High School               $609.00           83.839917   \n",
       "\n",
       "                     Average Reading Score  % Passing Math  % Passing Reading  \\\n",
       "Cabrera High School              83.975780       94.133477          97.039828   \n",
       "Thomas High School               83.896082       93.185690          97.018739   \n",
       "Griffin High School              83.816757       93.392371          97.138965   \n",
       "Wilson High School               83.989488       93.867718          96.539641   \n",
       "Pena High School                 84.044699       94.594595          95.945946   \n",
       "\n",
       "                     % Overall Passing  \n",
       "Cabrera High School          91.334769  \n",
       "Thomas High School           90.630324  \n",
       "Griffin High School          90.599455  \n",
       "Wilson High School           90.582567  \n",
       "Pena High School             90.540541  "
      ]
     },
     "execution_count": 147,
     "metadata": {},
     "output_type": "execute_result"
    }
   ],
   "source": [
    "# High and Low Performing Schools\n",
    "# Sort and show top five schools.\n",
    "top_schools = per_school_summary_df.sort_values([\"% Overall Passing\"], ascending=False)\n",
    "top_schools.head()"
   ]
  },
  {
   "cell_type": "code",
   "execution_count": 148,
   "id": "508d6b0b",
   "metadata": {},
   "outputs": [
    {
     "data": {
      "text/html": [
       "<div>\n",
       "<style scoped>\n",
       "    .dataframe tbody tr th:only-of-type {\n",
       "        vertical-align: middle;\n",
       "    }\n",
       "\n",
       "    .dataframe tbody tr th {\n",
       "        vertical-align: top;\n",
       "    }\n",
       "\n",
       "    .dataframe thead th {\n",
       "        text-align: right;\n",
       "    }\n",
       "</style>\n",
       "<table border=\"1\" class=\"dataframe\">\n",
       "  <thead>\n",
       "    <tr style=\"text-align: right;\">\n",
       "      <th></th>\n",
       "      <th>School Type</th>\n",
       "      <th>Total Students</th>\n",
       "      <th>Total School Budget</th>\n",
       "      <th>Per Student Budget</th>\n",
       "      <th>Average Math Score</th>\n",
       "      <th>Average Reading Score</th>\n",
       "      <th>% Passing Math</th>\n",
       "      <th>% Passing Reading</th>\n",
       "      <th>% Overall Passing</th>\n",
       "    </tr>\n",
       "  </thead>\n",
       "  <tbody>\n",
       "    <tr>\n",
       "      <th>Rodriguez High School</th>\n",
       "      <td>District</td>\n",
       "      <td>3999</td>\n",
       "      <td>$2,547,363.00</td>\n",
       "      <td>$637.00</td>\n",
       "      <td>76.842711</td>\n",
       "      <td>80.744686</td>\n",
       "      <td>66.366592</td>\n",
       "      <td>80.220055</td>\n",
       "      <td>52.988247</td>\n",
       "    </tr>\n",
       "    <tr>\n",
       "      <th>Figueroa High School</th>\n",
       "      <td>District</td>\n",
       "      <td>2949</td>\n",
       "      <td>$1,884,411.00</td>\n",
       "      <td>$639.00</td>\n",
       "      <td>76.711767</td>\n",
       "      <td>81.158020</td>\n",
       "      <td>65.988471</td>\n",
       "      <td>80.739234</td>\n",
       "      <td>53.204476</td>\n",
       "    </tr>\n",
       "    <tr>\n",
       "      <th>Huang High School</th>\n",
       "      <td>District</td>\n",
       "      <td>2917</td>\n",
       "      <td>$1,910,635.00</td>\n",
       "      <td>$655.00</td>\n",
       "      <td>76.629414</td>\n",
       "      <td>81.182722</td>\n",
       "      <td>65.683922</td>\n",
       "      <td>81.316421</td>\n",
       "      <td>53.513884</td>\n",
       "    </tr>\n",
       "    <tr>\n",
       "      <th>Hernandez High School</th>\n",
       "      <td>District</td>\n",
       "      <td>4635</td>\n",
       "      <td>$3,022,020.00</td>\n",
       "      <td>$652.00</td>\n",
       "      <td>77.289752</td>\n",
       "      <td>80.934412</td>\n",
       "      <td>66.752967</td>\n",
       "      <td>80.862999</td>\n",
       "      <td>53.527508</td>\n",
       "    </tr>\n",
       "    <tr>\n",
       "      <th>Johnson High School</th>\n",
       "      <td>District</td>\n",
       "      <td>4761</td>\n",
       "      <td>$3,094,650.00</td>\n",
       "      <td>$650.00</td>\n",
       "      <td>77.072464</td>\n",
       "      <td>80.966394</td>\n",
       "      <td>66.057551</td>\n",
       "      <td>81.222432</td>\n",
       "      <td>53.539172</td>\n",
       "    </tr>\n",
       "  </tbody>\n",
       "</table>\n",
       "</div>"
      ],
      "text/plain": [
       "                      School Type  Total Students Total School Budget  \\\n",
       "Rodriguez High School    District            3999       $2,547,363.00   \n",
       "Figueroa High School     District            2949       $1,884,411.00   \n",
       "Huang High School        District            2917       $1,910,635.00   \n",
       "Hernandez High School    District            4635       $3,022,020.00   \n",
       "Johnson High School      District            4761       $3,094,650.00   \n",
       "\n",
       "                      Per Student Budget  Average Math Score  \\\n",
       "Rodriguez High School            $637.00           76.842711   \n",
       "Figueroa High School             $639.00           76.711767   \n",
       "Huang High School                $655.00           76.629414   \n",
       "Hernandez High School            $652.00           77.289752   \n",
       "Johnson High School              $650.00           77.072464   \n",
       "\n",
       "                       Average Reading Score  % Passing Math  \\\n",
       "Rodriguez High School              80.744686       66.366592   \n",
       "Figueroa High School               81.158020       65.988471   \n",
       "Huang High School                  81.182722       65.683922   \n",
       "Hernandez High School              80.934412       66.752967   \n",
       "Johnson High School                80.966394       66.057551   \n",
       "\n",
       "                       % Passing Reading  % Overall Passing  \n",
       "Rodriguez High School          80.220055          52.988247  \n",
       "Figueroa High School           80.739234          53.204476  \n",
       "Huang High School              81.316421          53.513884  \n",
       "Hernandez High School          80.862999          53.527508  \n",
       "Johnson High School            81.222432          53.539172  "
      ]
     },
     "execution_count": 148,
     "metadata": {},
     "output_type": "execute_result"
    }
   ],
   "source": [
    "# Sort and show lowest five schools.\n",
    "bottom_schools = per_school_summary_df.sort_values([\"% Overall Passing\"], ascending=True)\n",
    "bottom_schools.head()"
   ]
  },
  {
   "cell_type": "code",
   "execution_count": 149,
   "id": "ebd59d5b",
   "metadata": {},
   "outputs": [],
   "source": [
    "# Math and Reading Scores by Grade\n",
    "# Create a Series of scores by grade levels using conditionals.\n",
    "ninth_graders =school_data_complete_df[(school_data_complete_df[\"grade\"] == \"9th\")]\n",
    "tenth_graders = school_data_complete_df[(school_data_complete_df[\"grade\"] == \"10th\")]\n",
    "eleventh_graders = school_data_complete_df[(school_data_complete_df[\"grade\"] == \"11th\")]\n",
    "twelfth_graders = school_data_complete_df[(school_data_complete_df[\"grade\"] == \"12th\")]\n",
    "# Group each school Series by the school name for the average math score.\n",
    "ninth_grade_math_scores = ninth_graders.groupby([\"school_name\"]).mean()[\"math_score\"]\n",
    "tenth_grade_math_scores = tenth_graders.groupby([\"school_name\"]).mean()[\"math_score\"]\n",
    "eleventh_grade_math_scores = eleventh_graders.groupby([\"school_name\"]).mean()[\"math_score\"]\n",
    "twelfth_grade_math_scores = twelfth_graders.groupby([\"school_name\"]).mean()[\"math_score\"]\n",
    "# Group each school Series by the school name for the average reading score.\n",
    "ninth_grade_reading_scores = ninth_graders.groupby([\"school_name\"]).mean()[\"reading_score\"]\n",
    "tenth_grade_reading_scores = tenth_graders.groupby([\"school_name\"]).mean()[\"reading_score\"]\n",
    "eleventh_grade_reading_scores = eleventh_graders.groupby([\"school_name\"]).mean()[\"reading_score\"]\n",
    "twelfth_grade_reading_scores = twelfth_graders.groupby([\"school_name\"]).mean()[\"reading_score\"]"
   ]
  },
  {
   "cell_type": "code",
   "execution_count": 150,
   "id": "b2be4361",
   "metadata": {},
   "outputs": [],
   "source": [
    "# Combine each Series for average math scores by school into single data frame.\n",
    "math_scores_by_grade = pd.DataFrame({\n",
    "               \"9th\": ninth_grade_math_scores,\n",
    "               \"10th\": tenth_grade_math_scores,\n",
    "               \"11th\": eleventh_grade_math_scores,\n",
    "               \"12th\": twelfth_grade_math_scores})\n",
    "#math_scores_by_grade.head()"
   ]
  },
  {
   "cell_type": "code",
   "execution_count": 151,
   "id": "63068599",
   "metadata": {},
   "outputs": [],
   "source": [
    "# Combine each Series for average reading scores by school into single data frame.\n",
    "reading_scores_by_grade = pd.DataFrame({\n",
    "              \"9th\": ninth_grade_reading_scores,\n",
    "              \"10th\": tenth_grade_reading_scores,\n",
    "              \"11th\": eleventh_grade_reading_scores,\n",
    "              \"12th\": twelfth_grade_reading_scores})\n",
    "#reading_scores_by_grade.head()"
   ]
  },
  {
   "cell_type": "code",
   "execution_count": 152,
   "id": "e9438386",
   "metadata": {},
   "outputs": [],
   "source": [
    "# Format each grade column.\n",
    "# math_scores_by_grade format each grade column to one decimal place, remove name of the index column school_name.\n",
    "math_scores_by_grade[\"9th\"] = math_scores_by_grade[\"9th\"].map(\"{:.1f}\".format)\n",
    "math_scores_by_grade[\"10th\"] = math_scores_by_grade[\"10th\"].map(\"{:.1f}\".format)\n",
    "math_scores_by_grade[\"11th\"] = math_scores_by_grade[\"11th\"].map(\"{:.1f}\".format)\n",
    "math_scores_by_grade[\"12th\"] = math_scores_by_grade[\"12th\"].map(\"{:.1f}\".format)"
   ]
  },
  {
   "cell_type": "code",
   "execution_count": 153,
   "id": "c5090368",
   "metadata": {},
   "outputs": [],
   "source": [
    "# Remove the index.\n",
    "math_scores_by_grade.index.name = None\n",
    "# Display the data frame\n",
    "#math_scores_by_grade"
   ]
  },
  {
   "cell_type": "code",
   "execution_count": 154,
   "id": "c0f2b76c",
   "metadata": {},
   "outputs": [],
   "source": [
    "# reading_scores_by_grade format each grade column to one decimal place, remove name of the index column school_name.\n",
    "reading_scores_by_grade[\"9th\"] = reading_scores_by_grade[\"9th\"].map(\"{:,.1f}\".format)\n",
    "reading_scores_by_grade[\"10th\"] = reading_scores_by_grade[\"10th\"].map(\"{:,.1f}\".format)\n",
    "reading_scores_by_grade[\"11th\"] = reading_scores_by_grade[\"11th\"].map(\"{:,.1f}\".format)\n",
    "reading_scores_by_grade[\"12th\"] = reading_scores_by_grade[\"12th\"].map(\"{:,.1f}\".format)"
   ]
  },
  {
   "cell_type": "code",
   "execution_count": 155,
   "id": "f088be45",
   "metadata": {},
   "outputs": [],
   "source": [
    "# Remove the index.\n",
    "reading_scores_by_grade.index.name = None\n",
    "# Display the data frame\n",
    "#reading_scores_by_grade"
   ]
  },
  {
   "cell_type": "code",
   "execution_count": 156,
   "id": "ee4ec63b",
   "metadata": {},
   "outputs": [],
   "source": [
    "# Scores by School Spending.\n",
    "# Establish the spending bins and group names.\n",
    "\n",
    "\n",
    "# Categorize spending based on the bins."
   ]
  },
  {
   "cell_type": "code",
   "execution_count": 157,
   "id": "ce28349c",
   "metadata": {},
   "outputs": [],
   "source": [
    "# Calculate averages for the desired columns. "
   ]
  },
  {
   "cell_type": "code",
   "execution_count": null,
   "id": "b15e5ba5",
   "metadata": {},
   "outputs": [],
   "source": []
  }
 ],
 "metadata": {
  "kernelspec": {
   "display_name": "PyhtonData",
   "language": "python",
   "name": "pyhtondata"
  },
  "language_info": {
   "codemirror_mode": {
    "name": "ipython",
    "version": 3
   },
   "file_extension": ".py",
   "mimetype": "text/x-python",
   "name": "python",
   "nbconvert_exporter": "python",
   "pygments_lexer": "ipython3",
   "version": "3.7.13"
  }
 },
 "nbformat": 4,
 "nbformat_minor": 5
}
